{
 "cells": [
  {
   "cell_type": "markdown",
   "metadata": {},
   "source": [
    "ensdswith- startswith"
   ]
  },
  {
   "cell_type": "code",
   "execution_count": null,
   "metadata": {},
   "outputs": [],
   "source": [
    "text = \"Hola Mundo\"\n",
    "print(text.endswith(\"Mundo\"))  #Verifica si el string termina con Mundo  \n",
    "print(text.startswith(\"Hola\")) #Verifica si el string comienza con Hola"
   ]
  },
  {
   "cell_type": "markdown",
   "metadata": {},
   "source": [
    "isalpha"
   ]
  },
  {
   "cell_type": "code",
   "execution_count": 3,
   "metadata": {},
   "outputs": [
    {
     "name": "stdout",
     "output_type": "stream",
     "text": [
      "True\n",
      "False\n"
     ]
    }
   ],
   "source": [
    "texto = \"python\"\n",
    "print(texto.isalpha())\n",
    "texto = \"python1\"\n",
    "print(texto.isalpha())"
   ]
  },
  {
   "cell_type": "markdown",
   "metadata": {},
   "source": [
    "isalnum \n"
   ]
  },
  {
   "cell_type": "code",
   "execution_count": null,
   "metadata": {},
   "outputs": [],
   "source": [
    "texto = \"hola123\"\n",
    "print(texto.isalnum()) #Los caracteres son alfanumericos.\n",
    "texto = \"hola mundo\" #Tiene un espacio y por lo tanto es false. \n",
    "print(texto.isalnum())"
   ]
  },
  {
   "cell_type": "code",
   "execution_count": null,
   "metadata": {},
   "outputs": [],
   "source": [
    "isdigit"
   ]
  },
  {
   "cell_type": "code",
   "execution_count": null,
   "metadata": {},
   "outputs": [],
   "source": [
    "texto = \"1234\"\n",
    "print(texto.isdigit()) #Los caracteres son digitos.\n",
    "texto = \"hola123\" #Tiene letras y por lo tanto es false. \n",
    "print(texto.isdigit())"
   ]
  },
  {
   "cell_type": "markdown",
   "metadata": {},
   "source": [
    "istitle"
   ]
  },
  {
   "cell_type": "code",
   "execution_count": null,
   "metadata": {},
   "outputs": [],
   "source": [
    "texto = \"Hola Mundo\"\n",
    "print(texto.istitle()) \n",
    "texto = \"hola mundo\" #Las palabras no empiezan con mayuscula y por lo tanto es false. \n",
    "print(texto.istitle())"
   ]
  },
  {
   "cell_type": "markdown",
   "metadata": {},
   "source": [
    "islower y isupper"
   ]
  },
  {
   "cell_type": "code",
   "execution_count": null,
   "metadata": {},
   "outputs": [],
   "source": [
    "texto = \"HOLA MUNDO\"\n",
    "print(texto.isupper()) \n",
    "print(texto.islower())\n",
    "texto = \"Hola Mundo\" \n",
    "print(texto.islower())\n",
    "print(texto.isupper())\n",
    "texto = \"hola mundo\"\n",
    "print(texto.islower())\n",
    "print(texto.isupper())"
   ]
  }
 ],
 "metadata": {
  "kernelspec": {
   "display_name": "Python 3",
   "language": "python",
   "name": "python3"
  },
  "language_info": {
   "codemirror_mode": {
    "name": "ipython",
    "version": 3
   },
   "file_extension": ".py",
   "mimetype": "text/x-python",
   "name": "python",
   "nbconvert_exporter": "python",
   "pygments_lexer": "ipython3",
   "version": "3.12.6"
  }
 },
 "nbformat": 4,
 "nbformat_minor": 2
}
